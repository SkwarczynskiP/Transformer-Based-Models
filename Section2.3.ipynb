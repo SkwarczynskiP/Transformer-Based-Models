{
  "nbformat": 4,
  "nbformat_minor": 0,
  "metadata": {
    "colab": {
      "provenance": [],
      "gpuType": "T4",
      "include_colab_link": true
    },
    "kernelspec": {
      "name": "python3",
      "display_name": "Python 3"
    },
    "language_info": {
      "name": "python"
    },
    "accelerator": "GPU",
    "widgets": {
      "application/vnd.jupyter.widget-state+json": {
        "7c70b00ed3044a8ea1adfa283b7e713f": {
          "model_module": "@jupyter-widgets/controls",
          "model_name": "HBoxModel",
          "model_module_version": "1.5.0",
          "state": {
            "_dom_classes": [],
            "_model_module": "@jupyter-widgets/controls",
            "_model_module_version": "1.5.0",
            "_model_name": "HBoxModel",
            "_view_count": null,
            "_view_module": "@jupyter-widgets/controls",
            "_view_module_version": "1.5.0",
            "_view_name": "HBoxView",
            "box_style": "",
            "children": [
              "IPY_MODEL_5701f26c217f4d6394094041af46a063",
              "IPY_MODEL_c1583cce67bc4f16b1f1d57957fe4f05",
              "IPY_MODEL_6de9a272d99842a285324ec54999914d"
            ],
            "layout": "IPY_MODEL_f3e879b9d1004de59d6540331b3dc8cb"
          }
        },
        "5701f26c217f4d6394094041af46a063": {
          "model_module": "@jupyter-widgets/controls",
          "model_name": "HTMLModel",
          "model_module_version": "1.5.0",
          "state": {
            "_dom_classes": [],
            "_model_module": "@jupyter-widgets/controls",
            "_model_module_version": "1.5.0",
            "_model_name": "HTMLModel",
            "_view_count": null,
            "_view_module": "@jupyter-widgets/controls",
            "_view_module_version": "1.5.0",
            "_view_name": "HTMLView",
            "description": "",
            "description_tooltip": null,
            "layout": "IPY_MODEL_c83588ac53b54010b41e049626119259",
            "placeholder": "​",
            "style": "IPY_MODEL_c9dea31fcccc4d3ba1c4def16dd03814",
            "value": "Loading checkpoint shards: 100%"
          }
        },
        "c1583cce67bc4f16b1f1d57957fe4f05": {
          "model_module": "@jupyter-widgets/controls",
          "model_name": "FloatProgressModel",
          "model_module_version": "1.5.0",
          "state": {
            "_dom_classes": [],
            "_model_module": "@jupyter-widgets/controls",
            "_model_module_version": "1.5.0",
            "_model_name": "FloatProgressModel",
            "_view_count": null,
            "_view_module": "@jupyter-widgets/controls",
            "_view_module_version": "1.5.0",
            "_view_name": "ProgressView",
            "bar_style": "success",
            "description": "",
            "description_tooltip": null,
            "layout": "IPY_MODEL_341cb9c443a34648835c55fcd904a493",
            "max": 2,
            "min": 0,
            "orientation": "horizontal",
            "style": "IPY_MODEL_5793a7f54c12447b9d71c70855c4872a",
            "value": 2
          }
        },
        "6de9a272d99842a285324ec54999914d": {
          "model_module": "@jupyter-widgets/controls",
          "model_name": "HTMLModel",
          "model_module_version": "1.5.0",
          "state": {
            "_dom_classes": [],
            "_model_module": "@jupyter-widgets/controls",
            "_model_module_version": "1.5.0",
            "_model_name": "HTMLModel",
            "_view_count": null,
            "_view_module": "@jupyter-widgets/controls",
            "_view_module_version": "1.5.0",
            "_view_name": "HTMLView",
            "description": "",
            "description_tooltip": null,
            "layout": "IPY_MODEL_d2a7edb97fae4ef09b0891ec32b62580",
            "placeholder": "​",
            "style": "IPY_MODEL_61a0c256ae9e4fbd9a62d791bc5012e4",
            "value": " 2/2 [01:12&lt;00:00, 33.80s/it]"
          }
        },
        "f3e879b9d1004de59d6540331b3dc8cb": {
          "model_module": "@jupyter-widgets/base",
          "model_name": "LayoutModel",
          "model_module_version": "1.2.0",
          "state": {
            "_model_module": "@jupyter-widgets/base",
            "_model_module_version": "1.2.0",
            "_model_name": "LayoutModel",
            "_view_count": null,
            "_view_module": "@jupyter-widgets/base",
            "_view_module_version": "1.2.0",
            "_view_name": "LayoutView",
            "align_content": null,
            "align_items": null,
            "align_self": null,
            "border": null,
            "bottom": null,
            "display": null,
            "flex": null,
            "flex_flow": null,
            "grid_area": null,
            "grid_auto_columns": null,
            "grid_auto_flow": null,
            "grid_auto_rows": null,
            "grid_column": null,
            "grid_gap": null,
            "grid_row": null,
            "grid_template_areas": null,
            "grid_template_columns": null,
            "grid_template_rows": null,
            "height": null,
            "justify_content": null,
            "justify_items": null,
            "left": null,
            "margin": null,
            "max_height": null,
            "max_width": null,
            "min_height": null,
            "min_width": null,
            "object_fit": null,
            "object_position": null,
            "order": null,
            "overflow": null,
            "overflow_x": null,
            "overflow_y": null,
            "padding": null,
            "right": null,
            "top": null,
            "visibility": null,
            "width": null
          }
        },
        "c83588ac53b54010b41e049626119259": {
          "model_module": "@jupyter-widgets/base",
          "model_name": "LayoutModel",
          "model_module_version": "1.2.0",
          "state": {
            "_model_module": "@jupyter-widgets/base",
            "_model_module_version": "1.2.0",
            "_model_name": "LayoutModel",
            "_view_count": null,
            "_view_module": "@jupyter-widgets/base",
            "_view_module_version": "1.2.0",
            "_view_name": "LayoutView",
            "align_content": null,
            "align_items": null,
            "align_self": null,
            "border": null,
            "bottom": null,
            "display": null,
            "flex": null,
            "flex_flow": null,
            "grid_area": null,
            "grid_auto_columns": null,
            "grid_auto_flow": null,
            "grid_auto_rows": null,
            "grid_column": null,
            "grid_gap": null,
            "grid_row": null,
            "grid_template_areas": null,
            "grid_template_columns": null,
            "grid_template_rows": null,
            "height": null,
            "justify_content": null,
            "justify_items": null,
            "left": null,
            "margin": null,
            "max_height": null,
            "max_width": null,
            "min_height": null,
            "min_width": null,
            "object_fit": null,
            "object_position": null,
            "order": null,
            "overflow": null,
            "overflow_x": null,
            "overflow_y": null,
            "padding": null,
            "right": null,
            "top": null,
            "visibility": null,
            "width": null
          }
        },
        "c9dea31fcccc4d3ba1c4def16dd03814": {
          "model_module": "@jupyter-widgets/controls",
          "model_name": "DescriptionStyleModel",
          "model_module_version": "1.5.0",
          "state": {
            "_model_module": "@jupyter-widgets/controls",
            "_model_module_version": "1.5.0",
            "_model_name": "DescriptionStyleModel",
            "_view_count": null,
            "_view_module": "@jupyter-widgets/base",
            "_view_module_version": "1.2.0",
            "_view_name": "StyleView",
            "description_width": ""
          }
        },
        "341cb9c443a34648835c55fcd904a493": {
          "model_module": "@jupyter-widgets/base",
          "model_name": "LayoutModel",
          "model_module_version": "1.2.0",
          "state": {
            "_model_module": "@jupyter-widgets/base",
            "_model_module_version": "1.2.0",
            "_model_name": "LayoutModel",
            "_view_count": null,
            "_view_module": "@jupyter-widgets/base",
            "_view_module_version": "1.2.0",
            "_view_name": "LayoutView",
            "align_content": null,
            "align_items": null,
            "align_self": null,
            "border": null,
            "bottom": null,
            "display": null,
            "flex": null,
            "flex_flow": null,
            "grid_area": null,
            "grid_auto_columns": null,
            "grid_auto_flow": null,
            "grid_auto_rows": null,
            "grid_column": null,
            "grid_gap": null,
            "grid_row": null,
            "grid_template_areas": null,
            "grid_template_columns": null,
            "grid_template_rows": null,
            "height": null,
            "justify_content": null,
            "justify_items": null,
            "left": null,
            "margin": null,
            "max_height": null,
            "max_width": null,
            "min_height": null,
            "min_width": null,
            "object_fit": null,
            "object_position": null,
            "order": null,
            "overflow": null,
            "overflow_x": null,
            "overflow_y": null,
            "padding": null,
            "right": null,
            "top": null,
            "visibility": null,
            "width": null
          }
        },
        "5793a7f54c12447b9d71c70855c4872a": {
          "model_module": "@jupyter-widgets/controls",
          "model_name": "ProgressStyleModel",
          "model_module_version": "1.5.0",
          "state": {
            "_model_module": "@jupyter-widgets/controls",
            "_model_module_version": "1.5.0",
            "_model_name": "ProgressStyleModel",
            "_view_count": null,
            "_view_module": "@jupyter-widgets/base",
            "_view_module_version": "1.2.0",
            "_view_name": "StyleView",
            "bar_color": null,
            "description_width": ""
          }
        },
        "d2a7edb97fae4ef09b0891ec32b62580": {
          "model_module": "@jupyter-widgets/base",
          "model_name": "LayoutModel",
          "model_module_version": "1.2.0",
          "state": {
            "_model_module": "@jupyter-widgets/base",
            "_model_module_version": "1.2.0",
            "_model_name": "LayoutModel",
            "_view_count": null,
            "_view_module": "@jupyter-widgets/base",
            "_view_module_version": "1.2.0",
            "_view_name": "LayoutView",
            "align_content": null,
            "align_items": null,
            "align_self": null,
            "border": null,
            "bottom": null,
            "display": null,
            "flex": null,
            "flex_flow": null,
            "grid_area": null,
            "grid_auto_columns": null,
            "grid_auto_flow": null,
            "grid_auto_rows": null,
            "grid_column": null,
            "grid_gap": null,
            "grid_row": null,
            "grid_template_areas": null,
            "grid_template_columns": null,
            "grid_template_rows": null,
            "height": null,
            "justify_content": null,
            "justify_items": null,
            "left": null,
            "margin": null,
            "max_height": null,
            "max_width": null,
            "min_height": null,
            "min_width": null,
            "object_fit": null,
            "object_position": null,
            "order": null,
            "overflow": null,
            "overflow_x": null,
            "overflow_y": null,
            "padding": null,
            "right": null,
            "top": null,
            "visibility": null,
            "width": null
          }
        },
        "61a0c256ae9e4fbd9a62d791bc5012e4": {
          "model_module": "@jupyter-widgets/controls",
          "model_name": "DescriptionStyleModel",
          "model_module_version": "1.5.0",
          "state": {
            "_model_module": "@jupyter-widgets/controls",
            "_model_module_version": "1.5.0",
            "_model_name": "DescriptionStyleModel",
            "_view_count": null,
            "_view_module": "@jupyter-widgets/base",
            "_view_module_version": "1.2.0",
            "_view_name": "StyleView",
            "description_width": ""
          }
        }
      }
    }
  },
  "cells": [
    {
      "cell_type": "markdown",
      "metadata": {
        "id": "view-in-github",
        "colab_type": "text"
      },
      "source": [
        "<a href=\"https://colab.research.google.com/github/SkwarczynskiP/Transformer-Based-Models/blob/main/Section2.3.ipynb\" target=\"_parent\"><img src=\"https://colab.research.google.com/assets/colab-badge.svg\" alt=\"Open In Colab\"/></a>"
      ]
    },
    {
      "cell_type": "code",
      "source": [
        "!pip install -q -U langchain transformers bitsandbytes accelerate\n",
        "!pip install datasets"
      ],
      "metadata": {
        "id": "roUv9W5Va93Z"
      },
      "execution_count": null,
      "outputs": []
    },
    {
      "cell_type": "code",
      "source": [
        "import torch\n",
        "from transformers import BitsAndBytesConfig\n",
        "from langchain import HuggingFacePipeline\n",
        "from langchain import PromptTemplate, LLMChain\n",
        "from transformers import AutoModelForCausalLM, AutoTokenizer, pipeline\n",
        "from datasets import load_dataset\n",
        "import warnings\n",
        "from datasets import metric\n",
        "import numpy as np\n",
        "from tqdm import tqdm\n",
        "warnings.filterwarnings(\"ignore\", message=\"`do_sample` is set to `False`. However, `temperature` is set to `0` -- this flag is only used in sample-based generation modes. You should set `do_sample=True` or unset `temperature`.\")\n",
        "warnings.filterwarnings(\"ignore\", message=\"`do_sample` is set to `False`. However, `top_k` is set to `5` -- this flag is only used in sample-based generation modes. You should set `do_sample=True` or unset `top_k`.\")\n"
      ],
      "metadata": {
        "id": "5y96pELAV423"
      },
      "execution_count": null,
      "outputs": []
    },
    {
      "cell_type": "code",
      "source": [
        "# Begining of Model #1 - mistralai/Mistral-7B-Instruct-v0.1\n",
        "\n",
        "quantization_config = BitsAndBytesConfig(\n",
        "    load_in_4bit=True,\n",
        "    bnb_4bit_compute_dtype=torch.float16,\n",
        "    bnb_4bit_quant_type=\"nf4\",\n",
        "    bnb_4bit_use_double_quant=True,\n",
        ")\n",
        "\n",
        "model_4bit = AutoModelForCausalLM.from_pretrained(\"mistralai/Mistral-7B-Instruct-v0.1\", device_map=\"auto\", quantization_config=quantization_config)\n",
        "tokenizer = AutoTokenizer.from_pretrained(\"mistralai/Mistral-7B-Instruct-v0.1\")"
      ],
      "metadata": {
        "id": "SU6QPXDLiNV1",
        "colab": {
          "base_uri": "https://localhost:8080/",
          "height": 49,
          "referenced_widgets": [
            "7c70b00ed3044a8ea1adfa283b7e713f",
            "5701f26c217f4d6394094041af46a063",
            "c1583cce67bc4f16b1f1d57957fe4f05",
            "6de9a272d99842a285324ec54999914d",
            "f3e879b9d1004de59d6540331b3dc8cb",
            "c83588ac53b54010b41e049626119259",
            "c9dea31fcccc4d3ba1c4def16dd03814",
            "341cb9c443a34648835c55fcd904a493",
            "5793a7f54c12447b9d71c70855c4872a",
            "d2a7edb97fae4ef09b0891ec32b62580",
            "61a0c256ae9e4fbd9a62d791bc5012e4"
          ]
        },
        "outputId": "914920da-4fbb-4ff9-8595-12464a2faaac"
      },
      "execution_count": null,
      "outputs": [
        {
          "output_type": "display_data",
          "data": {
            "text/plain": [
              "Loading checkpoint shards:   0%|          | 0/2 [00:00<?, ?it/s]"
            ],
            "application/vnd.jupyter.widget-view+json": {
              "version_major": 2,
              "version_minor": 0,
              "model_id": "7c70b00ed3044a8ea1adfa283b7e713f"
            }
          },
          "metadata": {}
        }
      ]
    },
    {
      "cell_type": "code",
      "source": [
        "pipeline_inst = pipeline(\n",
        "        \"text-generation\",\n",
        "        model=model_4bit,\n",
        "        tokenizer=tokenizer,\n",
        "        use_cache=True,\n",
        "        device_map=\"auto\",\n",
        "        max_length=512,\n",
        "        do_sample=False,\n",
        "        temperature = 0,\n",
        "        top_k=5,\n",
        "        num_return_sequences=1,\n",
        "        eos_token_id=tokenizer.eos_token_id,\n",
        "        pad_token_id=tokenizer.eos_token_id,\n",
        ")\n",
        "\n",
        "llm = HuggingFacePipeline(pipeline=pipeline_inst)\n",
        "\n",
        "template = \"Is this text message spam? Answer 'Yes' if the message is spam, answer 'No' if you are unsure. Please only enter one word, either 'Yes' or 'No': \""
      ],
      "metadata": {
        "id": "7jzGVbDDiS04"
      },
      "execution_count": null,
      "outputs": []
    },
    {
      "cell_type": "code",
      "source": [
        "def generate_response(question):\n",
        "    prompt = PromptTemplate(template=template, input_variables=[\"question\",\"context\"])\n",
        "    llm_chain = LLMChain(prompt=prompt, llm=llm)\n",
        "    response = llm_chain.run({\"question\":question})\n",
        "    return response"
      ],
      "metadata": {
        "id": "cV_ZCtiwifwd"
      },
      "execution_count": null,
      "outputs": []
    },
    {
      "cell_type": "code",
      "source": [
        "dataset = load_dataset(\"sms_spam\", trust_remote_code=True)\n",
        "test_texts = dataset['train']['sms']\n",
        "labels_test = dataset['train']['label']"
      ],
      "metadata": {
        "id": "eo5pUfGHijOK"
      },
      "execution_count": null,
      "outputs": []
    },
    {
      "cell_type": "code",
      "source": [
        "print(test_texts[:1]) # For testing the loading of the dataset"
      ],
      "metadata": {
        "colab": {
          "base_uri": "https://localhost:8080/"
        },
        "id": "uCVIGzE6rBdr",
        "outputId": "5effd698-b2e3-4430-f0b9-9d10b3f58a50"
      },
      "execution_count": null,
      "outputs": [
        {
          "output_type": "stream",
          "name": "stdout",
          "text": [
            "['Go until jurong point, crazy.. Available only in bugis n great world la e buffet... Cine there got amore wat...\\n']\n"
          ]
        }
      ]
    },
    {
      "cell_type": "code",
      "source": [
        "output_modelOne = []\n",
        "\n",
        "def generate_response(question): # Commented out portions were for testing purposes\n",
        "  try:\n",
        "    # print(question)\n",
        "    # print(\"\\n\")\n",
        "    prompt = PromptTemplate(template=template, input_variables=[\"question\",\"context\"])\n",
        "    llm_chain = LLMChain(prompt=prompt, llm=llm)\n",
        "    response = llm_chain.run({\"question\":question})\n",
        "    # print(response)\n",
        "    # print(\"\\n\")\n",
        "    return response\n",
        "  except Exception as e:\n",
        "    print(\"Exception: \")\n",
        "    print(e)\n",
        "\n",
        "for text in tqdm(test_texts[0:1000]):\n",
        "    result = generate_response(text)\n",
        "    last_word = result.split()[-1]\n",
        "    if last_word == 'Yes': # Check if the last word is 'Yes' or 'No'\n",
        "        output_modelOne.append(1)\n",
        "    elif last_word == 'No':\n",
        "        output_modelOne.append(0)"
      ],
      "metadata": {
        "colab": {
          "base_uri": "https://localhost:8080/"
        },
        "id": "p3Oojhc0imb_",
        "outputId": "26352209-09a8-41e7-c925-4ddd60520a6f"
      },
      "execution_count": null,
      "outputs": [
        {
          "output_type": "stream",
          "name": "stderr",
          "text": [
            "100%|██████████| 1000/1000 [08:03<00:00,  2.07it/s]\n"
          ]
        }
      ]
    },
    {
      "cell_type": "code",
      "source": [
        "print(output_modelOne) # For testing the output of the generated response"
      ],
      "metadata": {
        "id": "t1x09nZdpENg"
      },
      "execution_count": null,
      "outputs": []
    },
    {
      "cell_type": "code",
      "source": [
        "def compute_metrics(eval_pred):\n",
        "    logits, labels = eval_pred\n",
        "    predictions = np.argmax(logits, axis=-1)\n",
        "    return metric.compute(predictions=predictions, references=labels)"
      ],
      "metadata": {
        "id": "9FG4PsXviqVn"
      },
      "execution_count": null,
      "outputs": []
    },
    {
      "cell_type": "code",
      "source": [
        "correct_predictions = sum(predicted == actual for predicted, actual in zip(output_modelOne, labels_test[0:1000]))\n",
        "accuracy = correct_predictions / len(labels_test[0:1000])\n",
        "print(f'Accuracy for mistralai/Mistral-7B-Instruct-v0.1: {accuracy}')"
      ],
      "metadata": {
        "colab": {
          "base_uri": "https://localhost:8080/"
        },
        "id": "DVD8zXlAiuQP",
        "outputId": "d906cd9c-6733-4cdd-e364-91b2347195ee"
      },
      "execution_count": null,
      "outputs": [
        {
          "output_type": "stream",
          "name": "stdout",
          "text": [
            "Accuracy for mistralai/Mistral-7B-Instruct-v0.1: 0.152\n"
          ]
        }
      ]
    },
    {
      "cell_type": "code",
      "source": [
        "# Beginning of Model #2 - bigscience/bloomz-560m\n",
        "\n",
        "quantization_config = BitsAndBytesConfig(\n",
        "    load_in_4bit=True,\n",
        "    bnb_4bit_compute_dtype=torch.float16,\n",
        "    bnb_4bit_quant_type=\"nf4\",\n",
        "    bnb_4bit_use_double_quant=True,\n",
        ")\n",
        "\n",
        "model_4bit = AutoModelForCausalLM.from_pretrained(\"bigscience/bloomz-560m\", device_map=\"auto\",quantization_config=quantization_config)\n",
        "tokenizer = AutoTokenizer.from_pretrained(\"bigscience/bloomz-560m\")\n"
      ],
      "metadata": {
        "id": "tf7nC0AJENFn"
      },
      "execution_count": null,
      "outputs": []
    },
    {
      "cell_type": "code",
      "source": [
        "pipeline_inst = pipeline(\n",
        "        \"text-generation\",\n",
        "        model=model_4bit,\n",
        "        tokenizer=tokenizer,\n",
        "        use_cache=True,\n",
        "        device_map=\"auto\",\n",
        "        max_length=512,\n",
        "        do_sample=False,\n",
        "        temperature = 0,\n",
        "        top_k=5,\n",
        "        num_return_sequences=1,\n",
        "        eos_token_id=tokenizer.eos_token_id,\n",
        "        pad_token_id=tokenizer.eos_token_id,\n",
        ")\n",
        "\n",
        "llm = HuggingFacePipeline(pipeline=pipeline_inst)\n",
        "\n",
        "template = \"Is this text message spam? Answer 'Yes' if the message is spam, answer 'No' if you are unsure. Please only enter one word, either 'Yes' or 'No': \""
      ],
      "metadata": {
        "id": "iMK2HJ0HSyTh"
      },
      "execution_count": null,
      "outputs": []
    },
    {
      "cell_type": "code",
      "source": [
        "output_modelTwo = []\n",
        "\n",
        "def generate_response(question): # Commented out portions were for testing purposes\n",
        "  try:\n",
        "    # print(question)\n",
        "    # print(\"\\n\")\n",
        "    prompt = PromptTemplate(template=template, input_variables=[\"question\",\"context\"])\n",
        "    llm_chain = LLMChain(prompt=prompt, llm=llm)\n",
        "    response = llm_chain.run({\"question\":question})\n",
        "    # print(response)\n",
        "    # print(\"\\n\")\n",
        "    return response\n",
        "  except Exception as e:\n",
        "    print(\"Exception: \")\n",
        "    print(e)\n",
        "\n",
        "for text in tqdm(test_texts[0:1000]):\n",
        "    result = generate_response(text)\n",
        "    last_word = result.split()[-1]\n",
        "    if last_word == 'Yes': # Check if the last word is 'Yes' or 'No'\n",
        "        output_modelTwo.append(1)\n",
        "    elif last_word == 'No':\n",
        "        output_modelTwo.append(0)"
      ],
      "metadata": {
        "colab": {
          "base_uri": "https://localhost:8080/"
        },
        "id": "qPvDOrgwTJNK",
        "outputId": "cf8972ac-3005-40d9-ad7e-b20f4da88200"
      },
      "execution_count": null,
      "outputs": [
        {
          "output_type": "stream",
          "name": "stderr",
          "text": [
            "100%|██████████| 1000/1000 [01:53<00:00,  8.85it/s]\n"
          ]
        }
      ]
    },
    {
      "cell_type": "code",
      "source": [
        "correct_predictions = sum(predicted == actual for predicted, actual in zip(output_modelTwo, labels_test[0:1000]))\n",
        "accuracy = correct_predictions / len(labels_test[0:1000])\n",
        "print(f'Accuracy for bigscience/bloomz-560m: {accuracy}')"
      ],
      "metadata": {
        "colab": {
          "base_uri": "https://localhost:8080/"
        },
        "id": "5f3gUUx3Tj_z",
        "outputId": "e46ec656-ca9a-49bb-af1f-acdc3acaaecc"
      },
      "execution_count": null,
      "outputs": [
        {
          "output_type": "stream",
          "name": "stdout",
          "text": [
            "Accuracy for bigscience/bloomz-560m: 0.152\n"
          ]
        }
      ]
    }
  ]
}